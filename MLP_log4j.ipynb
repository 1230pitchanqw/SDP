{
 "cells": [
  {
   "cell_type": "code",
   "execution_count": 1,
   "metadata": {},
   "outputs": [
    {
     "name": "stderr",
     "output_type": "stream",
     "text": [
      "Using TensorFlow backend.\n"
     ]
    }
   ],
   "source": [
    "import javalang\n",
    "import pandas as pd\n",
    "import numpy as np\n",
    "from collections import Counter\n",
    "from sklearn.model_selection import train_test_split\n",
    "\n",
    "\n",
    "import keras\n",
    "from keras import layers\n",
    "import tensorflow as tf\n",
    "from keras.models import Sequential, Model, model_from_json\n",
    "from keras.utils import Sequence\n",
    "from keras.layers import concatenate, Input, LSTM, Dense, Masking, TimeDistributed, Embedding\n",
    "\n",
    "from sklearn.metrics import classification_report, roc_auc_score, accuracy_score"
   ]
  },
  {
   "cell_type": "code",
   "execution_count": 2,
   "metadata": {},
   "outputs": [],
   "source": [
    "Train_path = \"../../../Dataset/AST/log4j/df_log4j_v10.csv\"\n",
    "Test_path = \"../../../Dataset/AST/log4j/df_log4j_v11.csv\""
   ]
  },
  {
   "cell_type": "code",
   "execution_count": 20,
   "metadata": {},
   "outputs": [],
   "source": [
    "Train_path = \"../../../Dataset/AST/log4j/df_log4j_v11.csv\"\n",
    "Test_path = \"../../../Dataset/AST/log4j/df_log4j_v12.csv\""
   ]
  },
  {
   "cell_type": "code",
   "execution_count": 21,
   "metadata": {},
   "outputs": [],
   "source": [
    "df = pd.read_csv(Train_path)"
   ]
  },
  {
   "cell_type": "code",
   "execution_count": 22,
   "metadata": {},
   "outputs": [
    {
     "data": {
      "text/html": [
       "<div>\n",
       "<style scoped>\n",
       "    .dataframe tbody tr th:only-of-type {\n",
       "        vertical-align: middle;\n",
       "    }\n",
       "\n",
       "    .dataframe tbody tr th {\n",
       "        vertical-align: top;\n",
       "    }\n",
       "\n",
       "    .dataframe thead th {\n",
       "        text-align: right;\n",
       "    }\n",
       "</style>\n",
       "<table border=\"1\" class=\"dataframe\">\n",
       "  <thead>\n",
       "    <tr style=\"text-align: right;\">\n",
       "      <th></th>\n",
       "      <th>Unnamed: 0</th>\n",
       "      <th>metric_name</th>\n",
       "      <th>java_name</th>\n",
       "      <th>file</th>\n",
       "      <th>label</th>\n",
       "    </tr>\n",
       "  </thead>\n",
       "  <tbody>\n",
       "    <tr>\n",
       "      <th>0</th>\n",
       "      <td>0</td>\n",
       "      <td>org.apache.log4j.xml.examples.XCategory</td>\n",
       "      <td>./log4j-v_1_1/src/java/org/apache/log4j/xml/ex...</td>\n",
       "      <td>/*\\n * Copyright (C) The Apache Software Found...</td>\n",
       "      <td>1</td>\n",
       "    </tr>\n",
       "    <tr>\n",
       "      <th>1</th>\n",
       "      <td>1</td>\n",
       "      <td>org.apache.log4j.helpers.DateLayout</td>\n",
       "      <td>./log4j-v_1_1/src/java/org/apache/log4j/helper...</td>\n",
       "      <td>/*\\n * Copyright (C) The Apache Software Found...</td>\n",
       "      <td>1</td>\n",
       "    </tr>\n",
       "    <tr>\n",
       "      <th>2</th>\n",
       "      <td>2</td>\n",
       "      <td>org.apache.log4j.net.test.SocketMin</td>\n",
       "      <td>./log4j-v_1_1/src/java/org/apache/log4j/net/te...</td>\n",
       "      <td>/*\\n * Copyright (C) The Apache Software Found...</td>\n",
       "      <td>0</td>\n",
       "    </tr>\n",
       "  </tbody>\n",
       "</table>\n",
       "</div>"
      ],
      "text/plain": [
       "   Unnamed: 0                              metric_name  \\\n",
       "0           0  org.apache.log4j.xml.examples.XCategory   \n",
       "1           1      org.apache.log4j.helpers.DateLayout   \n",
       "2           2      org.apache.log4j.net.test.SocketMin   \n",
       "\n",
       "                                           java_name  \\\n",
       "0  ./log4j-v_1_1/src/java/org/apache/log4j/xml/ex...   \n",
       "1  ./log4j-v_1_1/src/java/org/apache/log4j/helper...   \n",
       "2  ./log4j-v_1_1/src/java/org/apache/log4j/net/te...   \n",
       "\n",
       "                                                file  label  \n",
       "0  /*\\n * Copyright (C) The Apache Software Found...      1  \n",
       "1  /*\\n * Copyright (C) The Apache Software Found...      1  \n",
       "2  /*\\n * Copyright (C) The Apache Software Found...      0  "
      ]
     },
     "execution_count": 22,
     "metadata": {},
     "output_type": "execute_result"
    }
   ],
   "source": [
    "df[:3]"
   ]
  },
  {
   "cell_type": "code",
   "execution_count": 23,
   "metadata": {},
   "outputs": [],
   "source": [
    "def build_dataset(name, file, label, limited):\n",
    "    vocab = {}\n",
    "    in_valid = []\n",
    "    input_list = []\n",
    "    label_list = []\n",
    "\n",
    "    for i, x in enumerate(file):\n",
    "        try:\n",
    "            tree = javalang.parse.parse(x)\n",
    "        except:\n",
    "            in_valid.append(name[i])\n",
    "            continue\n",
    "        input_ = []\n",
    "        for path, node in tree:\n",
    "            node_type = type(node)\n",
    "            flag =0\n",
    "            for limit in limited:\n",
    "                if limit in str(node_type):\n",
    "                    flag = 1\n",
    "                    break\n",
    "            if not flag:continue\n",
    "\n",
    "            if node_type not in vocab:\n",
    "                vocab[node_type] = len(vocab)\n",
    "            input_.append(node_type)\n",
    "        input_list.append(input_)\n",
    "        if label[i]>0:\n",
    "            label_list.append(1)\n",
    "        else:label_list.append(0)\n",
    "        \n",
    "    print(in_valid)\n",
    "    return input_list, label_list, vocab"
   ]
  },
  {
   "cell_type": "code",
   "execution_count": 24,
   "metadata": {},
   "outputs": [
    {
     "name": "stdout",
     "output_type": "stream",
     "text": [
      "['org.apache.log4j.PropertyConfigurator', 'org.apache.log4j.test.Finalize', 'org.apache.log4j.NDC', 'org.apache.log4j.Category']\n"
     ]
    }
   ],
   "source": [
    "limited = [\"Invocation\", \"Class\", \"Declaration\", \"Statement\", \"Clause\"]\n",
    "input_list, label_list, vocab = build_dataset(df.metric_name, df.file, df.label,limited)"
   ]
  },
  {
   "cell_type": "code",
   "execution_count": 25,
   "metadata": {},
   "outputs": [
    {
     "data": {
      "text/plain": [
       "(57.0, 422, 31)"
      ]
     },
     "execution_count": 25,
     "metadata": {},
     "output_type": "execute_result"
    }
   ],
   "source": [
    "length = [len(x) for x in input_list]\n",
    "np.median(length), np.max(length), len(vocab)"
   ]
  },
  {
   "cell_type": "markdown",
   "metadata": {},
   "source": [
    "# MLP"
   ]
  },
  {
   "cell_type": "code",
   "execution_count": 26,
   "metadata": {},
   "outputs": [],
   "source": [
    "X_train, y_train = input_list, label_list"
   ]
  },
  {
   "cell_type": "code",
   "execution_count": 27,
   "metadata": {},
   "outputs": [],
   "source": [
    "def preprocess(input_list, vocab):\n",
    "    X = np.zeros((len(input_list), len(vocab)))\n",
    "    for i, x in enumerate(input_list):\n",
    "        for ele in x:\n",
    "            X[i][vocab[ele]] +=1\n",
    "    return X"
   ]
  },
  {
   "cell_type": "code",
   "execution_count": 28,
   "metadata": {},
   "outputs": [],
   "source": [
    "#max_length = max([len(x) for x in input_list])\n",
    "X_train_d = preprocess(X_train, vocab)"
   ]
  },
  {
   "cell_type": "code",
   "execution_count": 29,
   "metadata": {},
   "outputs": [
    {
     "data": {
      "text/plain": [
       "array([[1., 2., 4., ..., 0., 0., 0.],\n",
       "       [1., 1., 9., ..., 0., 0., 0.],\n",
       "       [1., 1., 2., ..., 0., 0., 0.],\n",
       "       ...,\n",
       "       [1., 1., 1., ..., 1., 0., 0.],\n",
       "       [1., 1., 4., ..., 0., 0., 0.],\n",
       "       [1., 1., 8., ..., 0., 0., 0.]])"
      ]
     },
     "execution_count": 29,
     "metadata": {},
     "output_type": "execute_result"
    }
   ],
   "source": [
    "X_train_d"
   ]
  },
  {
   "cell_type": "code",
   "execution_count": 30,
   "metadata": {},
   "outputs": [
    {
     "name": "stdout",
     "output_type": "stream",
     "text": [
      "Training...\n",
      "Epoch 1/20\n",
      "100/100 [==============================] - 0s 1ms/step - loss: 0.7819\n",
      "Epoch 2/20\n",
      "100/100 [==============================] - 0s 106us/step - loss: 0.6876\n",
      "Epoch 3/20\n",
      "100/100 [==============================] - 0s 137us/step - loss: 0.6519\n",
      "Epoch 4/20\n",
      "100/100 [==============================] - 0s 127us/step - loss: 0.6192\n",
      "Epoch 5/20\n",
      "100/100 [==============================] - 0s 125us/step - loss: 0.5987\n",
      "Epoch 6/20\n",
      "100/100 [==============================] - 0s 127us/step - loss: 0.5793\n",
      "Epoch 7/20\n",
      "100/100 [==============================] - 0s 115us/step - loss: 0.5605\n",
      "Epoch 8/20\n",
      "100/100 [==============================] - 0s 124us/step - loss: 0.5451\n",
      "Epoch 9/20\n",
      "100/100 [==============================] - 0s 125us/step - loss: 0.5255\n",
      "Epoch 10/20\n",
      "100/100 [==============================] - 0s 123us/step - loss: 0.5089\n",
      "Epoch 11/20\n",
      "100/100 [==============================] - 0s 122us/step - loss: 0.4958\n",
      "Epoch 12/20\n",
      "100/100 [==============================] - 0s 115us/step - loss: 0.4813\n",
      "Epoch 13/20\n",
      "100/100 [==============================] - 0s 111us/step - loss: 0.4827\n",
      "Epoch 14/20\n",
      "100/100 [==============================] - 0s 115us/step - loss: 0.4603\n",
      "Epoch 15/20\n",
      "100/100 [==============================] - 0s 122us/step - loss: 0.4522\n",
      "Epoch 16/20\n",
      "100/100 [==============================] - 0s 109us/step - loss: 0.4435\n",
      "Epoch 17/20\n",
      "100/100 [==============================] - 0s 136us/step - loss: 0.4339\n",
      "Epoch 18/20\n",
      "100/100 [==============================] - 0s 142us/step - loss: 0.4278\n",
      "Epoch 19/20\n",
      "100/100 [==============================] - 0s 147us/step - loss: 0.4174\n",
      "Epoch 20/20\n",
      "100/100 [==============================] - 0s 137us/step - loss: 0.4116\n"
     ]
    },
    {
     "data": {
      "text/plain": [
       "<keras.callbacks.callbacks.History at 0x132b76710>"
      ]
     },
     "execution_count": 30,
     "metadata": {},
     "output_type": "execute_result"
    }
   ],
   "source": [
    "input_dim = X_train_d.shape[1]\n",
    "nb_classes = 1\n",
    "hidden_size = 32\n",
    "drop_rate = 0.5\n",
    "\n",
    "model = Sequential()\n",
    "model.add(Dense(hidden_size, input_dim=input_dim))\n",
    "model.add(layers.Activation('relu'))\n",
    "model.add(Dense(nb_classes))\n",
    "model.add(layers.Activation('sigmoid'))\n",
    "\n",
    "model.compile(loss='binary_crossentropy', optimizer='adam')\n",
    "\n",
    "print(\"Training...\")\n",
    "model.fit(X_train_d, y_train, epochs=20, batch_size=10, validation_split=0, verbose=1)"
   ]
  },
  {
   "cell_type": "markdown",
   "metadata": {},
   "source": [
    "# Testing"
   ]
  },
  {
   "cell_type": "code",
   "execution_count": 31,
   "metadata": {},
   "outputs": [],
   "source": [
    "df = pd.read_csv(Test_path)"
   ]
  },
  {
   "cell_type": "code",
   "execution_count": 32,
   "metadata": {},
   "outputs": [],
   "source": [
    "def build_test_dataset(name, file, label, limited, vocab):\n",
    "    in_valid = []\n",
    "    vocab_missing = []\n",
    "    input_list = []\n",
    "    label_list = []\n",
    "\n",
    "    for i, x in enumerate(file):\n",
    "        try:\n",
    "            tree = javalang.parse.parse(x)\n",
    "        except:\n",
    "            in_valid.append(name[i])\n",
    "            continue\n",
    "        input_ = []\n",
    "        for path, node in tree:\n",
    "            node_type = type(node)\n",
    "            flag =0\n",
    "            for limit in limited:\n",
    "                if limit in str(node_type):\n",
    "                    flag = 1\n",
    "                    break\n",
    "            if not flag:continue\n",
    "\n",
    "            if node_type not in vocab:\n",
    "                vocab_missing.append(node_type)\n",
    "                continue\n",
    "            input_.append(node_type)\n",
    "        input_list.append(input_)\n",
    "        if label[i]>0:\n",
    "            label_list.append(1)\n",
    "        else:label_list.append(0)\n",
    "        \n",
    "    print(in_valid)\n",
    "    print(vocab_missing)\n",
    "    return input_list, label_list"
   ]
  },
  {
   "cell_type": "code",
   "execution_count": 33,
   "metadata": {},
   "outputs": [
    {
     "name": "stdout",
     "output_type": "stream",
     "text": [
      "['org.apache.log4j.Category', 'org.apache.log4j.test.Finalize', 'org.apache.log4j.NDC', 'org.apache.log4j.PropertyConfigurator', 'org.apache.log4j.jmx.LoggerDynamicMBean', 'org.apache.log4j.lf5.viewer.categoryexplorer.CategoryNodeEditor']\n",
      "[]\n"
     ]
    }
   ],
   "source": [
    "limited = [\"Invocation\", \"Class\", \"Declaration\", \"Statement\", \"Clause\"]\n",
    "input_list, label_list = build_test_dataset(df.metric_name, df.file, df.label,limited, vocab)"
   ]
  },
  {
   "cell_type": "code",
   "execution_count": 34,
   "metadata": {},
   "outputs": [],
   "source": [
    "X_test, y_test = input_list, label_list\n",
    "X_test_d = preprocess(X_test, vocab)"
   ]
  },
  {
   "cell_type": "code",
   "execution_count": 35,
   "metadata": {},
   "outputs": [
    {
     "name": "stdout",
     "output_type": "stream",
     "text": [
      "Generating test predictions...\n"
     ]
    }
   ],
   "source": [
    "print(\"Generating test predictions...\")\n",
    "y_pred = model.predict(X_test_d, verbose=0).reshape(-1)\n",
    "y_pred_class = [round(x) for x in y_pred]"
   ]
  },
  {
   "cell_type": "code",
   "execution_count": 36,
   "metadata": {},
   "outputs": [
    {
     "name": "stdout",
     "output_type": "stream",
     "text": [
      "              precision    recall  f1-score   support\n",
      "\n",
      "  Non-Defect       0.04      0.62      0.07         8\n",
      "      Defect       0.95      0.30      0.46       180\n",
      "\n",
      "    accuracy                           0.31       188\n",
      "   macro avg       0.49      0.46      0.26       188\n",
      "weighted avg       0.91      0.31      0.44       188\n",
      "\n"
     ]
    }
   ],
   "source": [
    "print(classification_report(y_test, y_pred_class, target_names = [\"Non-Defect\", \"Defect\"]))"
   ]
  },
  {
   "cell_type": "code",
   "execution_count": 37,
   "metadata": {},
   "outputs": [
    {
     "data": {
      "text/plain": [
       "0.4784722222222222"
      ]
     },
     "execution_count": 37,
     "metadata": {},
     "output_type": "execute_result"
    }
   ],
   "source": [
    "roc_auc_score(y_test, y_pred)"
   ]
  },
  {
   "cell_type": "code",
   "execution_count": null,
   "metadata": {},
   "outputs": [],
   "source": []
  },
  {
   "cell_type": "code",
   "execution_count": null,
   "metadata": {},
   "outputs": [],
   "source": []
  },
  {
   "cell_type": "code",
   "execution_count": null,
   "metadata": {},
   "outputs": [],
   "source": []
  }
 ],
 "metadata": {
  "kernelspec": {
   "display_name": "Python 3",
   "language": "python",
   "name": "python3"
  },
  "language_info": {
   "codemirror_mode": {
    "name": "ipython",
    "version": 3
   },
   "file_extension": ".py",
   "mimetype": "text/x-python",
   "name": "python",
   "nbconvert_exporter": "python",
   "pygments_lexer": "ipython3",
   "version": "3.7.3"
  }
 },
 "nbformat": 4,
 "nbformat_minor": 2
}
