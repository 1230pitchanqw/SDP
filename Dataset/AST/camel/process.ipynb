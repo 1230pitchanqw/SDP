{
 "cells": [
  {
   "cell_type": "code",
   "execution_count": 1,
   "metadata": {},
   "outputs": [],
   "source": [
    "import pandas as pd\n",
    "from collections import Counter\n",
    "import numpy as np\n",
    "import os\n",
    "from glob import glob"
   ]
  },
  {
   "cell_type": "markdown",
   "metadata": {},
   "source": [
    "# V1"
   ]
  },
  {
   "cell_type": "code",
   "execution_count": 2,
   "metadata": {},
   "outputs": [],
   "source": [
    "log4j_v10 = pd.read_csv(\"../../../Dataset/metric/camel/camel-1.2.csv\")\n",
    "path = \"./camel-1.2/\""
   ]
  },
  {
   "cell_type": "code",
   "execution_count": 3,
   "metadata": {},
   "outputs": [],
   "source": [
    "java_files = [y for x in os.walk(path) for y in glob(os.path.join(x[0], '*.java'))]"
   ]
  },
  {
   "cell_type": "code",
   "execution_count": 4,
   "metadata": {},
   "outputs": [],
   "source": [
    "metric_name = []\n",
    "java_name = []\n",
    "java_str = []\n",
    "label = []\n",
    "not_found = []\n",
    "\n",
    "\n",
    "for name, bug in zip(log4j_v10['name.1'], log4j_v10['bug']):\n",
    "    flag = False\n",
    "    s_name = name.split(\".\")[-1]\n",
    "    for file in java_files:\n",
    "        if s_name==file.split(\"/\")[-1].split(\".\")[0]:\n",
    "            flag = True\n",
    "            break\n",
    "    if not flag:\n",
    "        not_found.append(name)\n",
    "    if flag:\n",
    "        with open(file, 'r') as myfile:\n",
    "            str_ = myfile.read()\n",
    "            java_str.append(str_)\n",
    "        label.append(bug)\n",
    "        java_name.append(file)\n",
    "        metric_name.append(name)"
   ]
  },
  {
   "cell_type": "code",
   "execution_count": 5,
   "metadata": {},
   "outputs": [],
   "source": [
    "df_log4j_v10 = pd.DataFrame([metric_name, java_name, java_str, label], index=['metric_name','java_name','file', 'label']).T"
   ]
  },
  {
   "cell_type": "code",
   "execution_count": 6,
   "metadata": {},
   "outputs": [
    {
     "data": {
      "text/plain": [
       "(522, 0.8585526315789473)"
      ]
     },
     "execution_count": 6,
     "metadata": {},
     "output_type": "execute_result"
    }
   ],
   "source": [
    "sum(log4j_v10.bug), np.mean(log4j_v10.bug)"
   ]
  },
  {
   "cell_type": "code",
   "execution_count": 7,
   "metadata": {},
   "outputs": [
    {
     "data": {
      "text/plain": [
       "(522, 0.8773109243697479)"
      ]
     },
     "execution_count": 7,
     "metadata": {},
     "output_type": "execute_result"
    }
   ],
   "source": [
    "sum(df_log4j_v10.label), np.mean(df_log4j_v10.label)"
   ]
  },
  {
   "cell_type": "code",
   "execution_count": 8,
   "metadata": {},
   "outputs": [],
   "source": [
    "df_log4j_v10.to_csv(\"camel-1.2.csv\")"
   ]
  },
  {
   "cell_type": "markdown",
   "metadata": {},
   "source": [
    "# V2"
   ]
  },
  {
   "cell_type": "code",
   "execution_count": 2,
   "metadata": {},
   "outputs": [],
   "source": [
    "log4j_v10 = pd.read_csv(\"../../../Dataset/metric/camel/camel-1.4.csv\")\n",
    "path = \"./camel-1.4/\""
   ]
  },
  {
   "cell_type": "code",
   "execution_count": 3,
   "metadata": {},
   "outputs": [],
   "source": [
    "java_files = [y for x in os.walk(path) for y in glob(os.path.join(x[0], '*.java'))]"
   ]
  },
  {
   "cell_type": "code",
   "execution_count": 4,
   "metadata": {},
   "outputs": [],
   "source": [
    "metric_name = []\n",
    "java_name = []\n",
    "java_str = []\n",
    "label = []\n",
    "not_found = []\n",
    "\n",
    "\n",
    "for name, bug in zip(log4j_v10['name.1'], log4j_v10['bug']):\n",
    "    flag = False\n",
    "    s_name = name.split(\".\")[-1]\n",
    "    for file in java_files:\n",
    "        if s_name==file.split(\"/\")[-1].split(\".\")[0]:\n",
    "            flag = True\n",
    "            break\n",
    "    if not flag:\n",
    "        not_found.append(name)\n",
    "    if flag:\n",
    "        with open(file, 'r') as myfile:\n",
    "            str_ = myfile.read()\n",
    "            java_str.append(str_)\n",
    "        label.append(bug)\n",
    "        java_name.append(file)\n",
    "        metric_name.append(name)"
   ]
  },
  {
   "cell_type": "code",
   "execution_count": 5,
   "metadata": {},
   "outputs": [],
   "source": [
    "df_log4j_v10 = pd.DataFrame([metric_name, java_name, java_str, label], index=['metric_name','java_name','file', 'label']).T"
   ]
  },
  {
   "cell_type": "code",
   "execution_count": 6,
   "metadata": {},
   "outputs": [
    {
     "data": {
      "text/plain": [
       "(335, 0.3841743119266055)"
      ]
     },
     "execution_count": 6,
     "metadata": {},
     "output_type": "execute_result"
    }
   ],
   "source": [
    "sum(log4j_v10.bug), np.mean(log4j_v10.bug)"
   ]
  },
  {
   "cell_type": "code",
   "execution_count": 7,
   "metadata": {},
   "outputs": [
    {
     "data": {
      "text/plain": [
       "(335, 0.3936545240893067)"
      ]
     },
     "execution_count": 7,
     "metadata": {},
     "output_type": "execute_result"
    }
   ],
   "source": [
    "sum(df_log4j_v10.label), np.mean(df_log4j_v10.label)"
   ]
  },
  {
   "cell_type": "code",
   "execution_count": 8,
   "metadata": {},
   "outputs": [],
   "source": [
    "df_log4j_v10.to_csv(\"camel-1.4.csv\")"
   ]
  },
  {
   "cell_type": "markdown",
   "metadata": {},
   "source": [
    "# V3"
   ]
  },
  {
   "cell_type": "code",
   "execution_count": 2,
   "metadata": {},
   "outputs": [],
   "source": [
    "log4j_v10 = pd.read_csv(\"../../../Dataset/metric/camel/camel-1.6.csv\")\n",
    "path = \"./camel-1.6/\""
   ]
  },
  {
   "cell_type": "code",
   "execution_count": 3,
   "metadata": {},
   "outputs": [],
   "source": [
    "java_files = [y for x in os.walk(path) for y in glob(os.path.join(x[0], '*.java'))]"
   ]
  },
  {
   "cell_type": "code",
   "execution_count": 4,
   "metadata": {},
   "outputs": [],
   "source": [
    "metric_name = []\n",
    "java_name = []\n",
    "java_str = []\n",
    "label = []\n",
    "not_found = []\n",
    "\n",
    "\n",
    "for name, bug in zip(log4j_v10['name.1'], log4j_v10['bug']):\n",
    "    flag = False\n",
    "    s_name = name.split(\".\")[-1]\n",
    "    for file in java_files:\n",
    "        if s_name==file.split(\"/\")[-1].split(\".\")[0]:\n",
    "            flag = True\n",
    "            break\n",
    "    if not flag:\n",
    "        not_found.append(name)\n",
    "    if flag:\n",
    "        with open(file, 'r') as myfile:\n",
    "            str_ = myfile.read()\n",
    "            java_str.append(str_)\n",
    "        label.append(bug)\n",
    "        java_name.append(file)\n",
    "        metric_name.append(name)"
   ]
  },
  {
   "cell_type": "code",
   "execution_count": 5,
   "metadata": {},
   "outputs": [],
   "source": [
    "df_log4j_v10 = pd.DataFrame([metric_name, java_name, java_str, label], index=['metric_name','java_name','file', 'label']).T"
   ]
  },
  {
   "cell_type": "code",
   "execution_count": 6,
   "metadata": {},
   "outputs": [
    {
     "data": {
      "text/plain": [
       "(500, 0.5181347150259067)"
      ]
     },
     "execution_count": 6,
     "metadata": {},
     "output_type": "execute_result"
    }
   ],
   "source": [
    "sum(log4j_v10.bug), np.mean(log4j_v10.bug)"
   ]
  },
  {
   "cell_type": "code",
   "execution_count": 7,
   "metadata": {},
   "outputs": [
    {
     "data": {
      "text/plain": [
       "(500, 0.5330490405117271)"
      ]
     },
     "execution_count": 7,
     "metadata": {},
     "output_type": "execute_result"
    }
   ],
   "source": [
    "sum(df_log4j_v10.label), np.mean(df_log4j_v10.label)"
   ]
  },
  {
   "cell_type": "code",
   "execution_count": 8,
   "metadata": {},
   "outputs": [],
   "source": [
    "df_log4j_v10.to_csv(\"camel-1.6.csv\")"
   ]
  },
  {
   "cell_type": "code",
   "execution_count": null,
   "metadata": {},
   "outputs": [],
   "source": []
  }
 ],
 "metadata": {
  "kernelspec": {
   "display_name": "Python 3",
   "language": "python",
   "name": "python3"
  },
  "language_info": {
   "codemirror_mode": {
    "name": "ipython",
    "version": 3
   },
   "file_extension": ".py",
   "mimetype": "text/x-python",
   "name": "python",
   "nbconvert_exporter": "python",
   "pygments_lexer": "ipython3",
   "version": "3.7.3"
  }
 },
 "nbformat": 4,
 "nbformat_minor": 2
}
