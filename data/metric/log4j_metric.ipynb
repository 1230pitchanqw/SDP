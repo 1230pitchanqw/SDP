{
 "cells": [
  {
   "cell_type": "code",
   "execution_count": 1,
   "metadata": {},
   "outputs": [],
   "source": [
    "import pandas as pd\n",
    "from collections import Counter"
   ]
  },
  {
   "cell_type": "code",
   "execution_count": 2,
   "metadata": {},
   "outputs": [],
   "source": [
    "log4j_v10 = pd.read_csv(\"../../Dataset/metric/log4j/log4j-1.0.csv\")\n",
    "log4j_v11 = pd.read_csv(\"../../Dataset/metric/log4j/log4j-1.1.csv\")\n",
    "log4j_v12 = pd.read_csv(\"../../Dataset/metric/log4j/log4j-1.2.csv\")"
   ]
  },
  {
   "cell_type": "code",
   "execution_count": 31,
   "metadata": {},
   "outputs": [
    {
     "data": {
      "text/html": [
       "<div>\n",
       "<style scoped>\n",
       "    .dataframe tbody tr th:only-of-type {\n",
       "        vertical-align: middle;\n",
       "    }\n",
       "\n",
       "    .dataframe tbody tr th {\n",
       "        vertical-align: top;\n",
       "    }\n",
       "\n",
       "    .dataframe thead th {\n",
       "        text-align: right;\n",
       "    }\n",
       "</style>\n",
       "<table border=\"1\" class=\"dataframe\">\n",
       "  <thead>\n",
       "    <tr style=\"text-align: right;\">\n",
       "      <th></th>\n",
       "      <th>name</th>\n",
       "      <th>version</th>\n",
       "      <th>name.1</th>\n",
       "      <th>wmc</th>\n",
       "      <th>dit</th>\n",
       "      <th>noc</th>\n",
       "      <th>cbo</th>\n",
       "      <th>rfc</th>\n",
       "      <th>lcom</th>\n",
       "      <th>ca</th>\n",
       "      <th>...</th>\n",
       "      <th>dam</th>\n",
       "      <th>moa</th>\n",
       "      <th>mfa</th>\n",
       "      <th>cam</th>\n",
       "      <th>ic</th>\n",
       "      <th>cbm</th>\n",
       "      <th>amc</th>\n",
       "      <th>max_cc</th>\n",
       "      <th>avg_cc</th>\n",
       "      <th>bug</th>\n",
       "    </tr>\n",
       "  </thead>\n",
       "  <tbody>\n",
       "    <tr>\n",
       "      <th>0</th>\n",
       "      <td>log4j</td>\n",
       "      <td>1.2</td>\n",
       "      <td>org.apache.log4j.chainsaw.XMLFileHandler</td>\n",
       "      <td>8</td>\n",
       "      <td>2</td>\n",
       "      <td>0</td>\n",
       "      <td>4</td>\n",
       "      <td>22</td>\n",
       "      <td>4</td>\n",
       "      <td>1</td>\n",
       "      <td>...</td>\n",
       "      <td>1.0</td>\n",
       "      <td>2</td>\n",
       "      <td>0.708333</td>\n",
       "      <td>0.291667</td>\n",
       "      <td>1</td>\n",
       "      <td>2</td>\n",
       "      <td>31.125</td>\n",
       "      <td>6</td>\n",
       "      <td>2.375</td>\n",
       "      <td>3</td>\n",
       "    </tr>\n",
       "    <tr>\n",
       "      <th>1</th>\n",
       "      <td>log4j</td>\n",
       "      <td>1.2</td>\n",
       "      <td>org.apache.log4j.spi.Configurator</td>\n",
       "      <td>1</td>\n",
       "      <td>1</td>\n",
       "      <td>0</td>\n",
       "      <td>7</td>\n",
       "      <td>1</td>\n",
       "      <td>0</td>\n",
       "      <td>6</td>\n",
       "      <td>...</td>\n",
       "      <td>0.0</td>\n",
       "      <td>0</td>\n",
       "      <td>0.000000</td>\n",
       "      <td>1.000000</td>\n",
       "      <td>0</td>\n",
       "      <td>0</td>\n",
       "      <td>0.000</td>\n",
       "      <td>1</td>\n",
       "      <td>1.000</td>\n",
       "      <td>2</td>\n",
       "    </tr>\n",
       "  </tbody>\n",
       "</table>\n",
       "<p>2 rows × 24 columns</p>\n",
       "</div>"
      ],
      "text/plain": [
       "    name  version                                    name.1  wmc  dit  noc  \\\n",
       "0  log4j      1.2  org.apache.log4j.chainsaw.XMLFileHandler    8    2    0   \n",
       "1  log4j      1.2         org.apache.log4j.spi.Configurator    1    1    0   \n",
       "\n",
       "   cbo  rfc  lcom  ca  ...  dam  moa       mfa       cam  ic  cbm     amc  \\\n",
       "0    4   22     4   1  ...  1.0    2  0.708333  0.291667   1    2  31.125   \n",
       "1    7    1     0   6  ...  0.0    0  0.000000  1.000000   0    0   0.000   \n",
       "\n",
       "   max_cc  avg_cc  bug  \n",
       "0       6   2.375    3  \n",
       "1       1   1.000    2  \n",
       "\n",
       "[2 rows x 24 columns]"
      ]
     },
     "execution_count": 31,
     "metadata": {},
     "output_type": "execute_result"
    }
   ],
   "source": [
    "log4j_v12[:2]"
   ]
  },
  {
   "cell_type": "markdown",
   "metadata": {},
   "source": [
    "# Logistic Regression"
   ]
  },
  {
   "cell_type": "code",
   "execution_count": 4,
   "metadata": {},
   "outputs": [],
   "source": [
    "from sklearn.linear_model import LogisticRegression\n",
    "from sklearn.model_selection import train_test_split\n",
    "import numpy as np\n",
    "from sklearn.metrics import classification_report, roc_auc_score, accuracy_score"
   ]
  },
  {
   "cell_type": "code",
   "execution_count": 6,
   "metadata": {},
   "outputs": [],
   "source": [
    "X_train = log4j_v10.iloc[:,3:-1].to_numpy()\n",
    "\n",
    "y_train = log4j_v10.iloc[:,-1:].to_numpy()\n",
    "y_train = np.array([1 if x[0] else 0 for x in y_train])"
   ]
  },
  {
   "cell_type": "code",
   "execution_count": 7,
   "metadata": {},
   "outputs": [],
   "source": [
    "X_test = log4j_v11.iloc[:,3:-1].to_numpy()\n",
    "\n",
    "y_test = log4j_v11.iloc[:,-1:].to_numpy()\n",
    "y_test = np.array([1 if x[0] else 0 for x in y_test])"
   ]
  },
  {
   "cell_type": "code",
   "execution_count": 8,
   "metadata": {},
   "outputs": [],
   "source": [
    "clf = LogisticRegression(random_state=0, solver='lbfgs', max_iter=10000).fit(X_train, y_train)\n",
    "y_pred_class = clf.predict(X_test)\n",
    "y_pred = clf.predict_proba(X_test)"
   ]
  },
  {
   "cell_type": "code",
   "execution_count": 17,
   "metadata": {},
   "outputs": [
    {
     "name": "stdout",
     "output_type": "stream",
     "text": [
      "# of coef: (1, 20)\n",
      "              precision    recall  f1-score   support\n",
      "\n",
      "  Non-Defect       0.80      0.92      0.86        72\n",
      "      Defect       0.78      0.57      0.66        37\n",
      "\n",
      "    accuracy                           0.80       109\n",
      "   macro avg       0.79      0.74      0.76       109\n",
      "weighted avg       0.80      0.80      0.79       109\n",
      "\n"
     ]
    }
   ],
   "source": [
    "print(\"# of coef:\",clf.coef_.shape)\n",
    "print(classification_report(y_test, y_pred_class, target_names = [\"Non-Defect\", \"Defect\"]))"
   ]
  },
  {
   "cell_type": "code",
   "execution_count": 20,
   "metadata": {},
   "outputs": [
    {
     "data": {
      "text/plain": [
       "0.8363363363363363"
      ]
     },
     "execution_count": 20,
     "metadata": {},
     "output_type": "execute_result"
    }
   ],
   "source": [
    "roc_auc_score(y_test, y_pred[:,1])"
   ]
  },
  {
   "cell_type": "code",
   "execution_count": 21,
   "metadata": {},
   "outputs": [
    {
     "data": {
      "text/plain": [
       "0.7421171171171171"
      ]
     },
     "execution_count": 21,
     "metadata": {},
     "output_type": "execute_result"
    }
   ],
   "source": [
    "roc_auc_score(y_test, y_pred_class)"
   ]
  },
  {
   "cell_type": "markdown",
   "metadata": {},
   "source": []
  },
  {
   "cell_type": "code",
   "execution_count": 32,
   "metadata": {},
   "outputs": [],
   "source": [
    "# 1.1->1.2\n",
    "\n",
    "X_train = log4j_v11.iloc[:,3:-1].to_numpy()\n",
    "\n",
    "y_train = log4j_v11.iloc[:,-1:].to_numpy()\n",
    "y_train = np.array([1 if x[0] else 0 for x in y_train])"
   ]
  },
  {
   "cell_type": "code",
   "execution_count": 23,
   "metadata": {},
   "outputs": [],
   "source": [
    "X_test = log4j_v12.iloc[:,3:-1].to_numpy()\n",
    "\n",
    "y_test = log4j_v12.iloc[:,-1:].to_numpy()\n",
    "y_test = np.array([1 if x[0] else 0 for x in y_test])"
   ]
  },
  {
   "cell_type": "code",
   "execution_count": 24,
   "metadata": {},
   "outputs": [],
   "source": [
    "clf = LogisticRegression(random_state=0, solver='lbfgs', max_iter=10000).fit(X_train, y_train)\n",
    "y_pred_class = clf.predict(X_test)\n",
    "y_pred = clf.predict_proba(X_test)"
   ]
  },
  {
   "cell_type": "code",
   "execution_count": 25,
   "metadata": {},
   "outputs": [
    {
     "name": "stdout",
     "output_type": "stream",
     "text": [
      "# of coef: (1, 20)\n",
      "              precision    recall  f1-score   support\n",
      "\n",
      "  Non-Defect       0.09      0.88      0.17        16\n",
      "      Defect       0.96      0.28      0.43       189\n",
      "\n",
      "    accuracy                           0.33       205\n",
      "   macro avg       0.53      0.58      0.30       205\n",
      "weighted avg       0.90      0.33      0.41       205\n",
      "\n"
     ]
    }
   ],
   "source": [
    "print(\"# of coef:\",clf.coef_.shape)\n",
    "print(classification_report(y_test, y_pred_class, target_names = [\"Non-Defect\", \"Defect\"]))"
   ]
  },
  {
   "cell_type": "code",
   "execution_count": 26,
   "metadata": {},
   "outputs": [
    {
     "data": {
      "text/plain": [
       "0.6792328042328042"
      ]
     },
     "execution_count": 26,
     "metadata": {},
     "output_type": "execute_result"
    }
   ],
   "source": [
    "roc_auc_score(y_test, y_pred[:,1])"
   ]
  },
  {
   "cell_type": "code",
   "execution_count": null,
   "metadata": {},
   "outputs": [],
   "source": []
  }
 ],
 "metadata": {
  "kernelspec": {
   "display_name": "Python 3",
   "language": "python",
   "name": "python3"
  },
  "language_info": {
   "codemirror_mode": {
    "name": "ipython",
    "version": 3
   },
   "file_extension": ".py",
   "mimetype": "text/x-python",
   "name": "python",
   "nbconvert_exporter": "python",
   "pygments_lexer": "ipython3",
   "version": "3.7.3"
  }
 },
 "nbformat": 4,
 "nbformat_minor": 2
}
