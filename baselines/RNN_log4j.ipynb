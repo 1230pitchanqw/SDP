{
 "cells": [
  {
   "cell_type": "code",
   "execution_count": 1,
   "metadata": {},
   "outputs": [
    {
     "name": "stderr",
     "output_type": "stream",
     "text": [
      "Using TensorFlow backend.\n"
     ]
    }
   ],
   "source": [
    "import javalang\n",
    "import pandas as pd\n",
    "import numpy as np\n",
    "from collections import Counter\n",
    "from sklearn.model_selection import train_test_split\n",
    "\n",
    "\n",
    "import keras\n",
    "from keras import layers\n",
    "import tensorflow as tf\n",
    "from keras.models import Sequential, Model, model_from_json\n",
    "from keras.utils import Sequence\n",
    "from keras.layers import concatenate, Input, LSTM, Dense, Masking, TimeDistributed, Embedding\n",
    "\n",
    "from sklearn.metrics import classification_report, roc_auc_score, accuracy_score"
   ]
  },
  {
   "cell_type": "code",
   "execution_count": 2,
   "metadata": {},
   "outputs": [],
   "source": [
    "Train_path = \"../../Dataset/AST/log4j/df_log4j_v10.csv\"\n",
    "Test_path = \"../../Dataset/AST/log4j/df_log4j_v11.csv\""
   ]
  },
  {
   "cell_type": "code",
   "execution_count": 3,
   "metadata": {},
   "outputs": [
    {
     "data": {
      "text/html": [
       "<div>\n",
       "<style scoped>\n",
       "    .dataframe tbody tr th:only-of-type {\n",
       "        vertical-align: middle;\n",
       "    }\n",
       "\n",
       "    .dataframe tbody tr th {\n",
       "        vertical-align: top;\n",
       "    }\n",
       "\n",
       "    .dataframe thead th {\n",
       "        text-align: right;\n",
       "    }\n",
       "</style>\n",
       "<table border=\"1\" class=\"dataframe\">\n",
       "  <thead>\n",
       "    <tr style=\"text-align: right;\">\n",
       "      <th></th>\n",
       "      <th>Unnamed: 0</th>\n",
       "      <th>metric_name</th>\n",
       "      <th>java_name</th>\n",
       "      <th>file</th>\n",
       "      <th>label</th>\n",
       "    </tr>\n",
       "  </thead>\n",
       "  <tbody>\n",
       "    <tr>\n",
       "      <th>0</th>\n",
       "      <td>0</td>\n",
       "      <td>org.apache.log4j.helpers.ISO8601DateFormat</td>\n",
       "      <td>./log4j-v_1_0/src/java/org/apache/log4j/helper...</td>\n",
       "      <td>/*\\n * Copyright (C) The Apache Software Found...</td>\n",
       "      <td>0</td>\n",
       "    </tr>\n",
       "    <tr>\n",
       "      <th>1</th>\n",
       "      <td>1</td>\n",
       "      <td>org.apache.log4j.xml.Transform</td>\n",
       "      <td>./log4j-v_1_0/src/java/org/apache/log4j/xml/Tr...</td>\n",
       "      <td>\\npackage org.apache.log4j.xml;\\n\\nimport org....</td>\n",
       "      <td>0</td>\n",
       "    </tr>\n",
       "    <tr>\n",
       "      <th>2</th>\n",
       "      <td>2</td>\n",
       "      <td>org.apache.log4j.helpers.AppenderAttachableImpl</td>\n",
       "      <td>./log4j-v_1_0/src/java/org/apache/log4j/helper...</td>\n",
       "      <td>/*\\n * Copyright (C) The Apache Software Found...</td>\n",
       "      <td>0</td>\n",
       "    </tr>\n",
       "  </tbody>\n",
       "</table>\n",
       "</div>"
      ],
      "text/plain": [
       "   Unnamed: 0                                      metric_name  \\\n",
       "0           0       org.apache.log4j.helpers.ISO8601DateFormat   \n",
       "1           1                   org.apache.log4j.xml.Transform   \n",
       "2           2  org.apache.log4j.helpers.AppenderAttachableImpl   \n",
       "\n",
       "                                           java_name  \\\n",
       "0  ./log4j-v_1_0/src/java/org/apache/log4j/helper...   \n",
       "1  ./log4j-v_1_0/src/java/org/apache/log4j/xml/Tr...   \n",
       "2  ./log4j-v_1_0/src/java/org/apache/log4j/helper...   \n",
       "\n",
       "                                                file  label  \n",
       "0  /*\\n * Copyright (C) The Apache Software Found...      0  \n",
       "1  \\npackage org.apache.log4j.xml;\\n\\nimport org....      0  \n",
       "2  /*\\n * Copyright (C) The Apache Software Found...      0  "
      ]
     },
     "execution_count": 3,
     "metadata": {},
     "output_type": "execute_result"
    }
   ],
   "source": [
    "df = pd.read_csv(Train_path)\n",
    "df[:3]"
   ]
  },
  {
   "cell_type": "code",
   "execution_count": 4,
   "metadata": {},
   "outputs": [],
   "source": [
    "def build_dataset(name, file, label, limited):\n",
    "    vocab = {}\n",
    "    in_valid = []\n",
    "    input_list = []\n",
    "    label_list = []\n",
    "\n",
    "    for i, x in enumerate(file):\n",
    "        try:\n",
    "            tree = javalang.parse.parse(x)\n",
    "        except:\n",
    "            in_valid.append(name[i])\n",
    "            continue\n",
    "        input_ = []\n",
    "        for path, node in tree:\n",
    "            node_type = type(node)\n",
    "            flag =0\n",
    "            for limit in limited:\n",
    "                if limit in str(node_type):\n",
    "                    flag = 1\n",
    "                    break\n",
    "            if not flag:continue\n",
    "\n",
    "            if node_type not in vocab:\n",
    "                vocab[node_type] = len(vocab)\n",
    "            input_.append(node_type)\n",
    "        input_list.append(input_)\n",
    "        if label[i]>0:\n",
    "            label_list.append(1)\n",
    "        else:label_list.append(0)\n",
    "        \n",
    "    print(in_valid)\n",
    "    return input_list, label_list, vocab"
   ]
  },
  {
   "cell_type": "code",
   "execution_count": 5,
   "metadata": {},
   "outputs": [
    {
     "name": "stdout",
     "output_type": "stream",
     "text": [
      "['org.apache.log4j.test.Finalize', 'org.apache.log4j.NDC', 'org.apache.log4j.Category', 'org.apache.log4j.PropertyConfigurator']\n"
     ]
    }
   ],
   "source": [
    "limited = [\"Invocation\", \"Class\", \"Declaration\", \"Statement\", \"Clause\"]\n",
    "input_list, label_list, vocab = build_dataset(df.metric_name, df.file, df.label,limited)"
   ]
  },
  {
   "cell_type": "code",
   "execution_count": 6,
   "metadata": {},
   "outputs": [
    {
     "data": {
      "text/plain": [
       "(52.0, 569, 31)"
      ]
     },
     "execution_count": 6,
     "metadata": {},
     "output_type": "execute_result"
    }
   ],
   "source": [
    "length = [len(x) for x in input_list]\n",
    "np.median(length), np.max(length), len(vocab)"
   ]
  },
  {
   "cell_type": "markdown",
   "metadata": {},
   "source": [
    "# RNN"
   ]
  },
  {
   "cell_type": "code",
   "execution_count": 7,
   "metadata": {},
   "outputs": [],
   "source": [
    "X_train, y_train = input_list, label_list"
   ]
  },
  {
   "cell_type": "code",
   "execution_count": 13,
   "metadata": {},
   "outputs": [],
   "source": [
    "def preprocess(input_list, vocab, max_length=500):\n",
    "    X = np.zeros((len(input_list), max_length))\n",
    "    for i, x in enumerate(input_list):\n",
    "        if len(x)>max_length:\n",
    "            x = x[:max_length]\n",
    "        X[i][-len(x):] = [vocab[ele]+1 for ele in x]\n",
    "    return X"
   ]
  },
  {
   "cell_type": "code",
   "execution_count": 14,
   "metadata": {},
   "outputs": [],
   "source": [
    "#max_length = max([len(x) for x in input_list])\n",
    "X_train_d = preprocess(X_train, vocab)"
   ]
  },
  {
   "cell_type": "code",
   "execution_count": 15,
   "metadata": {},
   "outputs": [
    {
     "data": {
      "text/plain": [
       "array([[ 0.,  0.,  0., ..., 14.,  6., 13.],\n",
       "       [ 0.,  0.,  0., ...,  7.,  4.,  7.],\n",
       "       [ 0.,  0.,  0., ...,  4.,  7., 11.],\n",
       "       ...,\n",
       "       [ 0.,  0.,  0., ...,  7., 24., 25.],\n",
       "       [ 0.,  0.,  0., ...,  5.,  4.,  7.],\n",
       "       [ 0.,  0.,  0., ..., 16.,  4.,  7.]])"
      ]
     },
     "execution_count": 15,
     "metadata": {},
     "output_type": "execute_result"
    }
   ],
   "source": [
    "X_train_d"
   ]
  },
  {
   "cell_type": "code",
   "execution_count": 16,
   "metadata": {},
   "outputs": [],
   "source": [
    "def build_model(feature_dim,\n",
    "                max_len=500,\n",
    "                lstm_units=32,\n",
    "                epoch=50,\n",
    "                batch_size =5,\n",
    "                pad_key=0,\n",
    "                nb_classes = 1,\n",
    "                dense_activate='relu'):\n",
    "    input1 = Input(shape=(max_len,))\n",
    "    current_input = Embedding(input_dim=feature_dim, output_dim=lstm_units)(input1)\n",
    "\n",
    "    lstm_out = layers.Bidirectional(layers.LSTM(lstm_units, return_sequences=True))(current_input)\n",
    "    lstm_out = layers.Bidirectional(layers.LSTM(lstm_units))(lstm_out)\n",
    "    lstm_out = Dense(lstm_units, activation=dense_activate)(lstm_out)\n",
    "\n",
    "    out = Dense(nb_classes, activation='sigmoid', name='main_output')(lstm_out)\n",
    "    model = Model(inputs=[input1], outputs=[out])\n",
    "\n",
    "    model.compile(optimizer='adam', loss=\"binary_crossentropy\", metrics=[\"accuracy\", keras.metrics.AUC()])\n",
    "    print(model.summary())\n",
    "    return model"
   ]
  },
  {
   "cell_type": "code",
   "execution_count": 17,
   "metadata": {},
   "outputs": [
    {
     "name": "stdout",
     "output_type": "stream",
     "text": [
      "Model: \"model_2\"\n",
      "_________________________________________________________________\n",
      "Layer (type)                 Output Shape              Param #   \n",
      "=================================================================\n",
      "input_2 (InputLayer)         (None, 500)               0         \n",
      "_________________________________________________________________\n",
      "embedding_2 (Embedding)      (None, 500, 32)           1024      \n",
      "_________________________________________________________________\n",
      "bidirectional_3 (Bidirection (None, 500, 64)           16640     \n",
      "_________________________________________________________________\n",
      "bidirectional_4 (Bidirection (None, 64)                24832     \n",
      "_________________________________________________________________\n",
      "dense_2 (Dense)              (None, 32)                2080      \n",
      "_________________________________________________________________\n",
      "main_output (Dense)          (None, 1)                 33        \n",
      "=================================================================\n",
      "Total params: 44,609\n",
      "Trainable params: 44,609\n",
      "Non-trainable params: 0\n",
      "_________________________________________________________________\n",
      "None\n"
     ]
    }
   ],
   "source": [
    "model = build_model(feature_dim = len(vocab)+1)"
   ]
  },
  {
   "cell_type": "code",
   "execution_count": 18,
   "metadata": {},
   "outputs": [
    {
     "name": "stdout",
     "output_type": "stream",
     "text": [
      "Training...\n"
     ]
    },
    {
     "name": "stderr",
     "output_type": "stream",
     "text": [
      "W0717 22:47:01.887340 4589901248 module_wrapper.py:139] From /usr/local/lib/python3.7/site-packages/keras/backend/tensorflow_backend.py:422: The name tf.global_variables is deprecated. Please use tf.compat.v1.global_variables instead.\n",
      "\n"
     ]
    },
    {
     "name": "stdout",
     "output_type": "stream",
     "text": [
      "Epoch 1/20\n",
      "115/115 [==============================] - 10s 85ms/step - loss: 0.6525 - accuracy: 0.7391 - auc_3: 0.4798\n",
      "Epoch 2/20\n",
      "115/115 [==============================] - 8s 69ms/step - loss: 0.5656 - accuracy: 0.7304 - auc_3: 0.6588\n",
      "Epoch 3/20\n",
      "115/115 [==============================] - 8s 67ms/step - loss: 0.5653 - accuracy: 0.7304 - auc_3: 0.6496\n",
      "Epoch 4/20\n",
      "115/115 [==============================] - 9s 78ms/step - loss: 0.5205 - accuracy: 0.7304 - auc_3: 0.7631\n",
      "Epoch 5/20\n",
      "115/115 [==============================] - 8s 68ms/step - loss: 0.5467 - accuracy: 0.7304 - auc_3: 0.6964\n",
      "Epoch 6/20\n",
      "115/115 [==============================] - 8s 67ms/step - loss: 0.5061 - accuracy: 0.7391 - auc_3: 0.7686\n",
      "Epoch 7/20\n",
      "115/115 [==============================] - 9s 78ms/step - loss: 0.4822 - accuracy: 0.7391 - auc_3: 0.7922\n",
      "Epoch 8/20\n",
      "115/115 [==============================] - 9s 76ms/step - loss: 0.4815 - accuracy: 0.7391 - auc_3: 0.7884\n",
      "Epoch 9/20\n",
      "115/115 [==============================] - 8s 73ms/step - loss: 0.4785 - accuracy: 0.7739 - auc_3: 0.7873\n",
      "Epoch 10/20\n",
      "115/115 [==============================] - 8s 70ms/step - loss: 0.4542 - accuracy: 0.8000 - auc_3: 0.8159\n",
      "Epoch 11/20\n",
      "115/115 [==============================] - 5s 43ms/step - loss: 0.4511 - accuracy: 0.8000 - auc_3: 0.8233\n",
      "Epoch 12/20\n",
      "115/115 [==============================] - 6s 51ms/step - loss: 0.4642 - accuracy: 0.7826 - auc_3: 0.8084\n",
      "Epoch 13/20\n",
      "115/115 [==============================] - 5s 47ms/step - loss: 0.4409 - accuracy: 0.8087 - auc_3: 0.8197\n",
      "Epoch 14/20\n",
      "115/115 [==============================] - 7s 59ms/step - loss: 0.4391 - accuracy: 0.8174 - auc_3: 0.8297\n",
      "Epoch 15/20\n",
      "115/115 [==============================] - 7s 63ms/step - loss: 0.4349 - accuracy: 0.7913 - auc_3: 0.8316\n",
      "Epoch 16/20\n",
      "115/115 [==============================] - 4s 38ms/step - loss: 0.4635 - accuracy: 0.7304 - auc_3: 0.8059\n",
      "Epoch 17/20\n",
      "115/115 [==============================] - 5s 40ms/step - loss: 0.4548 - accuracy: 0.7478 - auc_3: 0.8210\n",
      "Epoch 18/20\n",
      "115/115 [==============================] - 5s 44ms/step - loss: 0.4624 - accuracy: 0.7565 - auc_3: 0.8427\n",
      "Epoch 19/20\n",
      "115/115 [==============================] - 5s 42ms/step - loss: 0.3911 - accuracy: 0.8000 - auc_3: 0.8727\n",
      "Epoch 20/20\n",
      "115/115 [==============================] - 4s 38ms/step - loss: 0.4000 - accuracy: 0.7913 - auc_3: 0.8714\n"
     ]
    },
    {
     "data": {
      "text/plain": [
       "<keras.callbacks.callbacks.History at 0x13ce07128>"
      ]
     },
     "execution_count": 18,
     "metadata": {},
     "output_type": "execute_result"
    }
   ],
   "source": [
    "model.compile(loss='binary_crossentropy', metrics=[\"accuracy\", keras.metrics.AUC()], optimizer='adam')\n",
    "\n",
    "print(\"Training...\")\n",
    "model.fit(X_train_d, y_train, epochs=20, batch_size=10, validation_split=0, verbose=1)"
   ]
  },
  {
   "cell_type": "markdown",
   "metadata": {},
   "source": [
    "# Testing"
   ]
  },
  {
   "cell_type": "code",
   "execution_count": 19,
   "metadata": {},
   "outputs": [],
   "source": [
    "df = pd.read_csv(Test_path)"
   ]
  },
  {
   "cell_type": "code",
   "execution_count": 20,
   "metadata": {},
   "outputs": [],
   "source": [
    "def build_test_dataset(name, file, label, limited, vocab):\n",
    "    in_valid = []\n",
    "    vocab_missing = []\n",
    "    input_list = []\n",
    "    label_list = []\n",
    "\n",
    "    for i, x in enumerate(file):\n",
    "        try:\n",
    "            tree = javalang.parse.parse(x)\n",
    "        except:\n",
    "            in_valid.append(name[i])\n",
    "            continue\n",
    "        input_ = []\n",
    "        for path, node in tree:\n",
    "            node_type = type(node)\n",
    "            flag =0\n",
    "            for limit in limited:\n",
    "                if limit in str(node_type):\n",
    "                    flag = 1\n",
    "                    break\n",
    "            if not flag:continue\n",
    "\n",
    "            if node_type not in vocab:\n",
    "                vocab_missing.append(node_type)\n",
    "                continue\n",
    "            input_.append(node_type)\n",
    "        input_list.append(input_)\n",
    "        if label[i]>0:\n",
    "            label_list.append(1)\n",
    "        else:label_list.append(0)\n",
    "        \n",
    "    print(in_valid)\n",
    "    print(vocab_missing)\n",
    "    return input_list, label_list"
   ]
  },
  {
   "cell_type": "code",
   "execution_count": 21,
   "metadata": {},
   "outputs": [
    {
     "name": "stdout",
     "output_type": "stream",
     "text": [
      "['org.apache.log4j.PropertyConfigurator', 'org.apache.log4j.test.Finalize', 'org.apache.log4j.NDC', 'org.apache.log4j.Category']\n",
      "[]\n"
     ]
    }
   ],
   "source": [
    "limited = [\"Invocation\", \"Class\", \"Declaration\", \"Statement\", \"Clause\"]\n",
    "input_list, label_list = build_test_dataset(df.metric_name, df.file, df.label,limited, vocab)"
   ]
  },
  {
   "cell_type": "code",
   "execution_count": 22,
   "metadata": {},
   "outputs": [],
   "source": [
    "X_test, y_test = input_list, label_list\n",
    "X_test_d = preprocess(X_test, vocab)"
   ]
  },
  {
   "cell_type": "code",
   "execution_count": 23,
   "metadata": {},
   "outputs": [
    {
     "name": "stdout",
     "output_type": "stream",
     "text": [
      "Generating test predictions...\n"
     ]
    }
   ],
   "source": [
    "print(\"Generating test predictions...\")\n",
    "y_pred = model.predict(X_test_d, verbose=0).reshape(-1)\n",
    "y_pred_class = [round(x) for x in y_pred]"
   ]
  },
  {
   "cell_type": "code",
   "execution_count": 24,
   "metadata": {},
   "outputs": [
    {
     "name": "stdout",
     "output_type": "stream",
     "text": [
      "              precision    recall  f1-score   support\n",
      "\n",
      "  Non-Defect       0.86      0.82      0.84        66\n",
      "      Defect       0.68      0.74      0.70        34\n",
      "\n",
      "    accuracy                           0.79       100\n",
      "   macro avg       0.77      0.78      0.77       100\n",
      "weighted avg       0.80      0.79      0.79       100\n",
      "\n"
     ]
    }
   ],
   "source": [
    "print(classification_report(y_test, y_pred_class, target_names = [\"Non-Defect\", \"Defect\"]))"
   ]
  },
  {
   "cell_type": "code",
   "execution_count": 25,
   "metadata": {},
   "outputs": [
    {
     "data": {
      "text/plain": [
       "0.8103832442067738"
      ]
     },
     "execution_count": 25,
     "metadata": {},
     "output_type": "execute_result"
    }
   ],
   "source": [
    "roc_auc_score(y_test, y_pred)"
   ]
  },
  {
   "cell_type": "code",
   "execution_count": null,
   "metadata": {},
   "outputs": [],
   "source": []
  },
  {
   "cell_type": "code",
   "execution_count": null,
   "metadata": {},
   "outputs": [],
   "source": []
  },
  {
   "cell_type": "markdown",
   "metadata": {},
   "source": [
    "# Group"
   ]
  },
  {
   "cell_type": "code",
   "execution_count": 27,
   "metadata": {},
   "outputs": [
    {
     "name": "stdout",
     "output_type": "stream",
     "text": [
      "Generating test predictions...\n",
      "              precision    recall  f1-score   support\n",
      "\n",
      "  Non-Defect       0.50      0.29      0.36         7\n",
      "      Defect       0.75      0.88      0.81        17\n",
      "\n",
      "    accuracy                           0.71        24\n",
      "   macro avg       0.62      0.58      0.59        24\n",
      "weighted avg       0.68      0.71      0.68        24\n",
      "\n"
     ]
    },
    {
     "data": {
      "text/plain": [
       "0.5546218487394958"
      ]
     },
     "execution_count": 27,
     "metadata": {},
     "output_type": "execute_result"
    }
   ],
   "source": [
    "X_test, y_test = input_list, label_list\n",
    "X_test_d = preprocess(X_test, vocab)\n",
    "\n",
    "index = [i for i, j in enumerate(input_list) if len(j)>100]\n",
    "X_test_group, y_test_group = X_test_d[index], np.array(y_test)[index]\n",
    "\n",
    "\n",
    "print(\"Generating test predictions...\")\n",
    "y_pred = model.predict(X_test_group, verbose=0).reshape(-1)\n",
    "y_pred_class = [round(x) for x in y_pred]\n",
    "\n",
    "print(classification_report(y_test_group, y_pred_class, target_names = [\"Non-Defect\", \"Defect\"]))\n",
    "roc_auc_score(y_test_group, y_pred)"
   ]
  },
  {
   "cell_type": "code",
   "execution_count": null,
   "metadata": {},
   "outputs": [],
   "source": []
  }
 ],
 "metadata": {
  "kernelspec": {
   "display_name": "Python 3",
   "language": "python",
   "name": "python3"
  },
  "language_info": {
   "codemirror_mode": {
    "name": "ipython",
    "version": 3
   },
   "file_extension": ".py",
   "mimetype": "text/x-python",
   "name": "python",
   "nbconvert_exporter": "python",
   "pygments_lexer": "ipython3",
   "version": "3.7.3"
  }
 },
 "nbformat": 4,
 "nbformat_minor": 2
}
