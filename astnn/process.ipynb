{
 "cells": [
  {
   "cell_type": "code",
   "execution_count": 1,
   "metadata": {},
   "outputs": [],
   "source": [
    "import pandas as pd\n",
    "import os\n",
    "import sys\n",
    "import warnings\n",
    "import javalang\n",
    "from javalang.ast import Node\n",
    "import numpy as np\n",
    "\n",
    "\n",
    "warnings.filterwarnings('ignore')"
   ]
  },
  {
   "cell_type": "code",
   "execution_count": 2,
   "metadata": {},
   "outputs": [],
   "source": [
    "Train_path = \"../../Dataset/AST/log4j/df_log4j_v10.csv\"\n",
    "source = pd.read_csv(Train_path)\n",
    "source['b_label'] = np.where(source['label']<0.5,0,1)"
   ]
  },
  {
   "cell_type": "code",
   "execution_count": 3,
   "metadata": {},
   "outputs": [],
   "source": [
    "# Train_path = \"../../Dataset/AST/camel/camel-1.2.csv\"\n",
    "# source = pd.read_csv(Train_path)\n",
    "# source['b_label'] = np.where(source['label']<0.5,0,1)"
   ]
  },
  {
   "cell_type": "code",
   "execution_count": 4,
   "metadata": {},
   "outputs": [],
   "source": [
    "# Train_path = \"../../Dataset/AST/xerces/xerces-1.2.csv\"\n",
    "# source = pd.read_csv(Train_path)\n",
    "# source['b_label'] = np.where(source['label']<0.5,0,1)"
   ]
  },
  {
   "cell_type": "code",
   "execution_count": 5,
   "metadata": {},
   "outputs": [
    {
     "data": {
      "text/html": [
       "<div>\n",
       "<style scoped>\n",
       "    .dataframe tbody tr th:only-of-type {\n",
       "        vertical-align: middle;\n",
       "    }\n",
       "\n",
       "    .dataframe tbody tr th {\n",
       "        vertical-align: top;\n",
       "    }\n",
       "\n",
       "    .dataframe thead th {\n",
       "        text-align: right;\n",
       "    }\n",
       "</style>\n",
       "<table border=\"1\" class=\"dataframe\">\n",
       "  <thead>\n",
       "    <tr style=\"text-align: right;\">\n",
       "      <th></th>\n",
       "      <th>Unnamed: 0</th>\n",
       "      <th>metric_name</th>\n",
       "      <th>java_name</th>\n",
       "      <th>file</th>\n",
       "      <th>label</th>\n",
       "      <th>b_label</th>\n",
       "    </tr>\n",
       "  </thead>\n",
       "  <tbody>\n",
       "    <tr>\n",
       "      <th>0</th>\n",
       "      <td>0</td>\n",
       "      <td>org.apache.log4j.helpers.ISO8601DateFormat</td>\n",
       "      <td>./log4j-v_1_0/src/java/org/apache/log4j/helper...</td>\n",
       "      <td>/*\\n * Copyright (C) The Apache Software Found...</td>\n",
       "      <td>0</td>\n",
       "      <td>0</td>\n",
       "    </tr>\n",
       "    <tr>\n",
       "      <th>1</th>\n",
       "      <td>1</td>\n",
       "      <td>org.apache.log4j.xml.Transform</td>\n",
       "      <td>./log4j-v_1_0/src/java/org/apache/log4j/xml/Tr...</td>\n",
       "      <td>\\npackage org.apache.log4j.xml;\\n\\nimport org....</td>\n",
       "      <td>0</td>\n",
       "      <td>0</td>\n",
       "    </tr>\n",
       "    <tr>\n",
       "      <th>2</th>\n",
       "      <td>2</td>\n",
       "      <td>org.apache.log4j.helpers.AppenderAttachableImpl</td>\n",
       "      <td>./log4j-v_1_0/src/java/org/apache/log4j/helper...</td>\n",
       "      <td>/*\\n * Copyright (C) The Apache Software Found...</td>\n",
       "      <td>0</td>\n",
       "      <td>0</td>\n",
       "    </tr>\n",
       "  </tbody>\n",
       "</table>\n",
       "</div>"
      ],
      "text/plain": [
       "   Unnamed: 0                                      metric_name  \\\n",
       "0           0       org.apache.log4j.helpers.ISO8601DateFormat   \n",
       "1           1                   org.apache.log4j.xml.Transform   \n",
       "2           2  org.apache.log4j.helpers.AppenderAttachableImpl   \n",
       "\n",
       "                                           java_name  \\\n",
       "0  ./log4j-v_1_0/src/java/org/apache/log4j/helper...   \n",
       "1  ./log4j-v_1_0/src/java/org/apache/log4j/xml/Tr...   \n",
       "2  ./log4j-v_1_0/src/java/org/apache/log4j/helper...   \n",
       "\n",
       "                                                file  label  b_label  \n",
       "0  /*\\n * Copyright (C) The Apache Software Found...      0        0  \n",
       "1  \\npackage org.apache.log4j.xml;\\n\\nimport org....      0        0  \n",
       "2  /*\\n * Copyright (C) The Apache Software Found...      0        0  "
      ]
     },
     "execution_count": 5,
     "metadata": {},
     "output_type": "execute_result"
    }
   ],
   "source": [
    "source[:3]"
   ]
  },
  {
   "cell_type": "markdown",
   "metadata": {},
   "source": [
    "# Parse"
   ]
  },
  {
   "cell_type": "code",
   "execution_count": 6,
   "metadata": {},
   "outputs": [],
   "source": [
    "def parse_program(x):\n",
    "    try:\n",
    "        tree = javalang.parse.parse(x)\n",
    "        return tree\n",
    "    except:\n",
    "        print(\"invalid\")\n",
    "    "
   ]
  },
  {
   "cell_type": "code",
   "execution_count": 7,
   "metadata": {},
   "outputs": [
    {
     "name": "stdout",
     "output_type": "stream",
     "text": [
      "invalid\n",
      "invalid\n",
      "invalid\n",
      "invalid\n"
     ]
    }
   ],
   "source": [
    "source['AST'] = source['file'].apply(parse_program)"
   ]
  },
  {
   "cell_type": "markdown",
   "metadata": {},
   "source": [
    "# Build-Vocab"
   ]
  },
  {
   "cell_type": "code",
   "execution_count": 8,
   "metadata": {},
   "outputs": [],
   "source": [
    "def trans_to_sequences(ast):\n",
    "    sequence = []\n",
    "    get_sequence(ast, sequence)\n",
    "    return sequence\n",
    "\n",
    "def get_sequence(node, sequence):\n",
    "    token, children = get_token(node), get_children(node)\n",
    "    sequence.append(token)\n",
    "\n",
    "    for child in children:\n",
    "        get_sequence(child, sequence)\n",
    "\n",
    "    if token in ['ForStatement', 'WhileStatement', 'DoStatement','SwitchStatement', 'IfStatement']:\n",
    "        sequence.append('End')\n",
    "        \n",
    "def get_children(root):\n",
    "    if isinstance(root, Node):\n",
    "        children = root.children\n",
    "    elif isinstance(root, set):\n",
    "        children = list(root)\n",
    "    else:\n",
    "        children = []\n",
    "\n",
    "    def expand(nested_list):\n",
    "        for item in nested_list:\n",
    "            if isinstance(item, list):\n",
    "                for sub_item in expand(item):\n",
    "                    yield sub_item\n",
    "            elif item:\n",
    "                yield item\n",
    "    return list(expand(children))\n",
    "\n",
    "def get_token(node):\n",
    "    token = ''\n",
    "    if isinstance(node, str):\n",
    "        token = node\n",
    "    elif isinstance(node, set):\n",
    "        token = 'Modifier'#node.pop()\n",
    "    elif isinstance(node, Node):\n",
    "        token = node.__class__.__name__\n",
    "\n",
    "    return token"
   ]
  },
  {
   "cell_type": "code",
   "execution_count": 9,
   "metadata": {},
   "outputs": [],
   "source": [
    "source['AST_seq'] = source['AST'].apply(trans_to_sequences)"
   ]
  },
  {
   "cell_type": "code",
   "execution_count": 10,
   "metadata": {},
   "outputs": [
    {
     "data": {
      "text/plain": [
       "95"
      ]
     },
     "execution_count": 10,
     "metadata": {},
     "output_type": "execute_result"
    }
   ],
   "source": [
    "from gensim.models.word2vec import Word2Vec\n",
    "\n",
    "corpus = source['AST_seq']\n",
    "w2v = Word2Vec(corpus, size=50, workers=16, sg=1, min_count = 50, max_final_vocab=3000)\n",
    "vocab = w2v.wv.vocab\n",
    "max_token = w2v.wv.syn0.shape[0]\n",
    "\n",
    "len(vocab)"
   ]
  },
  {
   "cell_type": "code",
   "execution_count": 11,
   "metadata": {},
   "outputs": [],
   "source": [
    "w2v.save('word2vec_node_50')"
   ]
  },
  {
   "cell_type": "code",
   "execution_count": null,
   "metadata": {},
   "outputs": [],
   "source": []
  },
  {
   "cell_type": "markdown",
   "metadata": {},
   "source": [
    "# Block-process"
   ]
  },
  {
   "cell_type": "code",
   "execution_count": 12,
   "metadata": {},
   "outputs": [],
   "source": [
    "class BlockNode(object):\n",
    "    def __init__(self, node):\n",
    "        self.node = node\n",
    "        self.is_str = isinstance(self.node, str)\n",
    "        self.token = self.get_token(node)\n",
    "        self.children = self.add_children()\n",
    "\n",
    "    def is_leaf(self):\n",
    "        if self.is_str:\n",
    "            return True\n",
    "        return len(self.node.children) == 0\n",
    "\n",
    "    def get_token(self, node):\n",
    "        if isinstance(node, str):\n",
    "            token = node\n",
    "        elif isinstance(node, set):\n",
    "            token = 'Modifier'\n",
    "        elif isinstance(node, Node):\n",
    "            token = node.__class__.__name__\n",
    "        else:\n",
    "            token = ''\n",
    "        return token\n",
    "\n",
    "    def ori_children(self, root):\n",
    "        if isinstance(root, Node):\n",
    "            if self.token in ['MethodDeclaration', 'ConstructorDeclaration']:\n",
    "                children = root.children[:-1]\n",
    "            else:\n",
    "                children = root.children\n",
    "        elif isinstance(root, set):\n",
    "            children = list(root)\n",
    "        else:\n",
    "            children = []\n",
    "\n",
    "        def expand(nested_list):\n",
    "            for item in nested_list:\n",
    "                if isinstance(item, list):\n",
    "                    for sub_item in expand(item):\n",
    "                        yield sub_item\n",
    "                elif item:\n",
    "                    yield item\n",
    "\n",
    "        return list(expand(children))\n",
    "\n",
    "    def add_children(self):\n",
    "        if self.is_str:\n",
    "            return []\n",
    "        logic = ['SwitchStatement', 'IfStatement', 'ForStatement', 'WhileStatement', 'DoStatement']\n",
    "        children = self.ori_children(self.node)\n",
    "        if self.token in logic:\n",
    "            return [BlockNode(children[0])]\n",
    "        elif self.token in ['MethodDeclaration', 'ConstructorDeclaration']:\n",
    "            return [BlockNode(child) for child in children]\n",
    "        else:\n",
    "            return [BlockNode(child) for child in children if self.get_token( child) not in logic]\n"
   ]
  },
  {
   "cell_type": "code",
   "execution_count": 13,
   "metadata": {},
   "outputs": [],
   "source": [
    "def get_blocks_v1(node, block_seq):\n",
    "    name, children = get_token(node), get_children(node)\n",
    "    logic = ['ClassDeclaration', 'MethodDeclaration', 'SwitchStatement','IfStatement', 'ForStatement', 'WhileStatement', 'DoStatement']\n",
    "    \n",
    "    if name in ['CompilationUnit']:\n",
    "        block_seq.append(BlockNode(node))\n",
    "        body = node.types\n",
    "        for child in body:\n",
    "            if get_token(child) not in logic and not hasattr(child, 'block'):\n",
    "                block_seq.append(BlockNode(child))\n",
    "            else:\n",
    "                get_blocks_v1(child, block_seq)\n",
    "\n",
    "    elif name in ['ClassDeclaration', 'MethodDeclaration', 'ConstructorDeclaration']:\n",
    "        block_seq.append(BlockNode(node))\n",
    "        body = node.body\n",
    "        if body: \n",
    "            for child in body:\n",
    "                if get_token(child) not in logic and not hasattr(child, 'block'):\n",
    "                    block_seq.append(BlockNode(child))\n",
    "                else:\n",
    "                    get_blocks_v1(child, block_seq)\n",
    "    \n",
    "    elif name in logic:\n",
    "        block_seq.append(BlockNode(node))\n",
    "        for child in children[1:]:\n",
    "            token = get_token(child)\n",
    "            if not hasattr(node, 'block') and token not in logic+['BlockStatement']:\n",
    "                block_seq.append(BlockNode(child))\n",
    "            else:\n",
    "                get_blocks_v1(child, block_seq)\n",
    "            block_seq.append(BlockNode('End'))\n",
    "    \n",
    "    elif name is 'BlockStatement' or hasattr(node, 'block'):\n",
    "        block_seq.append(BlockNode(name))\n",
    "        for child in children:\n",
    "            if get_token(child) not in logic:\n",
    "                block_seq.append(BlockNode(child))\n",
    "            else:\n",
    "                get_blocks_v1(child, block_seq)\n",
    "    else:\n",
    "        for child in children:\n",
    "            get_blocks_v1(child, block_seq)\n",
    "            \n",
    "def trans2seq(r):\n",
    "    blocks = []\n",
    "    get_blocks_v1(r, blocks)\n",
    "    tree = []\n",
    "    for b in blocks:\n",
    "        btree = tree_to_index(b)\n",
    "        tree.append(btree)\n",
    "    return tree\n",
    "        \n",
    "def tree_to_index(node):\n",
    "    token = node.token\n",
    "    result = [vocab[token].index if token in vocab else max_token]\n",
    "    children = node.children\n",
    "    for child in children:\n",
    "        result.append(tree_to_index(child))\n",
    "    return result"
   ]
  },
  {
   "cell_type": "code",
   "execution_count": 14,
   "metadata": {},
   "outputs": [],
   "source": [
    "source['block_seq'] = source['AST'].apply(trans2seq)"
   ]
  },
  {
   "cell_type": "code",
   "execution_count": 15,
   "metadata": {},
   "outputs": [
    {
     "data": {
      "text/html": [
       "<div>\n",
       "<style scoped>\n",
       "    .dataframe tbody tr th:only-of-type {\n",
       "        vertical-align: middle;\n",
       "    }\n",
       "\n",
       "    .dataframe tbody tr th {\n",
       "        vertical-align: top;\n",
       "    }\n",
       "\n",
       "    .dataframe thead th {\n",
       "        text-align: right;\n",
       "    }\n",
       "</style>\n",
       "<table border=\"1\" class=\"dataframe\">\n",
       "  <thead>\n",
       "    <tr style=\"text-align: right;\">\n",
       "      <th></th>\n",
       "      <th>Unnamed: 0</th>\n",
       "      <th>metric_name</th>\n",
       "      <th>java_name</th>\n",
       "      <th>file</th>\n",
       "      <th>label</th>\n",
       "      <th>b_label</th>\n",
       "      <th>AST</th>\n",
       "      <th>AST_seq</th>\n",
       "      <th>block_seq</th>\n",
       "    </tr>\n",
       "  </thead>\n",
       "  <tbody>\n",
       "    <tr>\n",
       "      <th>0</th>\n",
       "      <td>0</td>\n",
       "      <td>org.apache.log4j.helpers.ISO8601DateFormat</td>\n",
       "      <td>./log4j-v_1_0/src/java/org/apache/log4j/helper...</td>\n",
       "      <td>/*\\n * Copyright (C) The Apache Software Found...</td>\n",
       "      <td>0</td>\n",
       "      <td>0</td>\n",
       "      <td>CompilationUnit(imports=[Import(path=java.util...</td>\n",
       "      <td>[CompilationUnit, PackageDeclaration, org.apac...</td>\n",
       "      <td>[[46, [47, [95]], [9, [95]], [9, [95]], [9, [9...</td>\n",
       "    </tr>\n",
       "    <tr>\n",
       "      <th>1</th>\n",
       "      <td>1</td>\n",
       "      <td>org.apache.log4j.xml.Transform</td>\n",
       "      <td>./log4j-v_1_0/src/java/org/apache/log4j/xml/Tr...</td>\n",
       "      <td>\\npackage org.apache.log4j.xml;\\n\\nimport org....</td>\n",
       "      <td>0</td>\n",
       "      <td>0</td>\n",
       "      <td>CompilationUnit(imports=[Import(path=org.apach...</td>\n",
       "      <td>[CompilationUnit, PackageDeclaration, org.apac...</td>\n",
       "      <td>[[46, [47, [95]], [9, [95]], [9, [95]], [9, [9...</td>\n",
       "    </tr>\n",
       "    <tr>\n",
       "      <th>2</th>\n",
       "      <td>2</td>\n",
       "      <td>org.apache.log4j.helpers.AppenderAttachableImpl</td>\n",
       "      <td>./log4j-v_1_0/src/java/org/apache/log4j/helper...</td>\n",
       "      <td>/*\\n * Copyright (C) The Apache Software Found...</td>\n",
       "      <td>0</td>\n",
       "      <td>0</td>\n",
       "      <td>CompilationUnit(imports=[Import(path=org.apach...</td>\n",
       "      <td>[CompilationUnit, PackageDeclaration, org.apac...</td>\n",
       "      <td>[[46, [47, [95]], [9, [95]], [9, [95]], [9, [9...</td>\n",
       "    </tr>\n",
       "  </tbody>\n",
       "</table>\n",
       "</div>"
      ],
      "text/plain": [
       "   Unnamed: 0                                      metric_name  \\\n",
       "0           0       org.apache.log4j.helpers.ISO8601DateFormat   \n",
       "1           1                   org.apache.log4j.xml.Transform   \n",
       "2           2  org.apache.log4j.helpers.AppenderAttachableImpl   \n",
       "\n",
       "                                           java_name  \\\n",
       "0  ./log4j-v_1_0/src/java/org/apache/log4j/helper...   \n",
       "1  ./log4j-v_1_0/src/java/org/apache/log4j/xml/Tr...   \n",
       "2  ./log4j-v_1_0/src/java/org/apache/log4j/helper...   \n",
       "\n",
       "                                                file  label  b_label  \\\n",
       "0  /*\\n * Copyright (C) The Apache Software Found...      0        0   \n",
       "1  \\npackage org.apache.log4j.xml;\\n\\nimport org....      0        0   \n",
       "2  /*\\n * Copyright (C) The Apache Software Found...      0        0   \n",
       "\n",
       "                                                 AST  \\\n",
       "0  CompilationUnit(imports=[Import(path=java.util...   \n",
       "1  CompilationUnit(imports=[Import(path=org.apach...   \n",
       "2  CompilationUnit(imports=[Import(path=org.apach...   \n",
       "\n",
       "                                             AST_seq  \\\n",
       "0  [CompilationUnit, PackageDeclaration, org.apac...   \n",
       "1  [CompilationUnit, PackageDeclaration, org.apac...   \n",
       "2  [CompilationUnit, PackageDeclaration, org.apac...   \n",
       "\n",
       "                                           block_seq  \n",
       "0  [[46, [47, [95]], [9, [95]], [9, [95]], [9, [9...  \n",
       "1  [[46, [47, [95]], [9, [95]], [9, [95]], [9, [9...  \n",
       "2  [[46, [47, [95]], [9, [95]], [9, [95]], [9, [9...  "
      ]
     },
     "execution_count": 15,
     "metadata": {},
     "output_type": "execute_result"
    }
   ],
   "source": [
    "source[:3]"
   ]
  },
  {
   "cell_type": "code",
   "execution_count": 16,
   "metadata": {},
   "outputs": [],
   "source": [
    "source.to_pickle(\"parsed_source.pkl\")"
   ]
  },
  {
   "cell_type": "code",
   "execution_count": null,
   "metadata": {},
   "outputs": [],
   "source": []
  },
  {
   "cell_type": "code",
   "execution_count": 17,
   "metadata": {},
   "outputs": [],
   "source": [
    "# Testing\n",
    "\n",
    "Test_path = \"../../Dataset/AST/log4j/df_log4j_v11.csv\"\n",
    "# Test_path = \"../../Dataset/AST/camel/camel-1.4.csv\"\n",
    "# Test_path = \"../../Dataset/AST/xerces/xerces-1.3.csv\""
   ]
  },
  {
   "cell_type": "code",
   "execution_count": 18,
   "metadata": {},
   "outputs": [
    {
     "name": "stdout",
     "output_type": "stream",
     "text": [
      "invalid\n",
      "invalid\n",
      "invalid\n",
      "invalid\n"
     ]
    }
   ],
   "source": [
    "source = pd.read_csv(Test_path)\n",
    "source['b_label'] = np.where(source['label']<0.5,0,1)\n",
    "\n",
    "source['AST'] = source['file'].apply(parse_program)\n",
    "source['block_seq'] = source['AST'].apply(trans2seq)"
   ]
  },
  {
   "cell_type": "code",
   "execution_count": 19,
   "metadata": {},
   "outputs": [],
   "source": [
    "source.to_pickle(\"parsed_source_test.pkl\")"
   ]
  },
  {
   "cell_type": "code",
   "execution_count": 20,
   "metadata": {},
   "outputs": [
    {
     "data": {
      "text/html": [
       "<div>\n",
       "<style scoped>\n",
       "    .dataframe tbody tr th:only-of-type {\n",
       "        vertical-align: middle;\n",
       "    }\n",
       "\n",
       "    .dataframe tbody tr th {\n",
       "        vertical-align: top;\n",
       "    }\n",
       "\n",
       "    .dataframe thead th {\n",
       "        text-align: right;\n",
       "    }\n",
       "</style>\n",
       "<table border=\"1\" class=\"dataframe\">\n",
       "  <thead>\n",
       "    <tr style=\"text-align: right;\">\n",
       "      <th></th>\n",
       "      <th>Unnamed: 0</th>\n",
       "      <th>metric_name</th>\n",
       "      <th>java_name</th>\n",
       "      <th>file</th>\n",
       "      <th>label</th>\n",
       "      <th>b_label</th>\n",
       "      <th>AST</th>\n",
       "      <th>block_seq</th>\n",
       "    </tr>\n",
       "  </thead>\n",
       "  <tbody>\n",
       "    <tr>\n",
       "      <th>0</th>\n",
       "      <td>0</td>\n",
       "      <td>org.apache.log4j.xml.examples.XCategory</td>\n",
       "      <td>./log4j-v_1_1/src/java/org/apache/log4j/xml/ex...</td>\n",
       "      <td>/*\\n * Copyright (C) The Apache Software Found...</td>\n",
       "      <td>1</td>\n",
       "      <td>1</td>\n",
       "      <td>CompilationUnit(imports=[Import(path=org.apach...</td>\n",
       "      <td>[[46, [47, [95]], [9, [95]], [9, [95]], [9, [9...</td>\n",
       "    </tr>\n",
       "    <tr>\n",
       "      <th>1</th>\n",
       "      <td>1</td>\n",
       "      <td>org.apache.log4j.helpers.DateLayout</td>\n",
       "      <td>./log4j-v_1_1/src/java/org/apache/log4j/helper...</td>\n",
       "      <td>/*\\n * Copyright (C) The Apache Software Found...</td>\n",
       "      <td>1</td>\n",
       "      <td>1</td>\n",
       "      <td>CompilationUnit(imports=[Import(path=org.apach...</td>\n",
       "      <td>[[46, [47, [95]], [9, [95]], [9, [95]], [9, [9...</td>\n",
       "    </tr>\n",
       "    <tr>\n",
       "      <th>2</th>\n",
       "      <td>2</td>\n",
       "      <td>org.apache.log4j.net.test.SocketMin</td>\n",
       "      <td>./log4j-v_1_1/src/java/org/apache/log4j/net/te...</td>\n",
       "      <td>/*\\n * Copyright (C) The Apache Software Found...</td>\n",
       "      <td>0</td>\n",
       "      <td>0</td>\n",
       "      <td>CompilationUnit(imports=[Import(path=org.apach...</td>\n",
       "      <td>[[46, [47, [95]], [9, [95]], [9, [95]], [9, [9...</td>\n",
       "    </tr>\n",
       "  </tbody>\n",
       "</table>\n",
       "</div>"
      ],
      "text/plain": [
       "   Unnamed: 0                              metric_name  \\\n",
       "0           0  org.apache.log4j.xml.examples.XCategory   \n",
       "1           1      org.apache.log4j.helpers.DateLayout   \n",
       "2           2      org.apache.log4j.net.test.SocketMin   \n",
       "\n",
       "                                           java_name  \\\n",
       "0  ./log4j-v_1_1/src/java/org/apache/log4j/xml/ex...   \n",
       "1  ./log4j-v_1_1/src/java/org/apache/log4j/helper...   \n",
       "2  ./log4j-v_1_1/src/java/org/apache/log4j/net/te...   \n",
       "\n",
       "                                                file  label  b_label  \\\n",
       "0  /*\\n * Copyright (C) The Apache Software Found...      1        1   \n",
       "1  /*\\n * Copyright (C) The Apache Software Found...      1        1   \n",
       "2  /*\\n * Copyright (C) The Apache Software Found...      0        0   \n",
       "\n",
       "                                                 AST  \\\n",
       "0  CompilationUnit(imports=[Import(path=org.apach...   \n",
       "1  CompilationUnit(imports=[Import(path=org.apach...   \n",
       "2  CompilationUnit(imports=[Import(path=org.apach...   \n",
       "\n",
       "                                           block_seq  \n",
       "0  [[46, [47, [95]], [9, [95]], [9, [95]], [9, [9...  \n",
       "1  [[46, [47, [95]], [9, [95]], [9, [95]], [9, [9...  \n",
       "2  [[46, [47, [95]], [9, [95]], [9, [95]], [9, [9...  "
      ]
     },
     "execution_count": 20,
     "metadata": {},
     "output_type": "execute_result"
    }
   ],
   "source": [
    "source[:3]"
   ]
  },
  {
   "cell_type": "code",
   "execution_count": null,
   "metadata": {},
   "outputs": [],
   "source": []
  },
  {
   "cell_type": "code",
   "execution_count": 21,
   "metadata": {},
   "outputs": [
    {
     "data": {
      "text/plain": [
       "274"
      ]
     },
     "execution_count": 21,
     "metadata": {},
     "output_type": "execute_result"
    }
   ],
   "source": [
    "max([len(x) for x in source['block_seq']])"
   ]
  },
  {
   "cell_type": "code",
   "execution_count": null,
   "metadata": {},
   "outputs": [],
   "source": []
  }
 ],
 "metadata": {
  "kernelspec": {
   "display_name": "Python 3",
   "language": "python",
   "name": "python3"
  },
  "language_info": {
   "codemirror_mode": {
    "name": "ipython",
    "version": 3
   },
   "file_extension": ".py",
   "mimetype": "text/x-python",
   "name": "python",
   "nbconvert_exporter": "python",
   "pygments_lexer": "ipython3",
   "version": "3.7.3"
  }
 },
 "nbformat": 4,
 "nbformat_minor": 2
}
